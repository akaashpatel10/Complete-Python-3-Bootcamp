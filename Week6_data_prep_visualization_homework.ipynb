{
  "nbformat": 4,
  "nbformat_minor": 0,
  "metadata": {
    "colab": {
      "name": "Week6_data_prep_visualization_homework.ipynb",
      "provenance": [],
      "collapsed_sections": [],
      "include_colab_link": true
    },
    "kernelspec": {
      "display_name": "Python 3",
      "language": "python",
      "name": "python3"
    },
    "language_info": {
      "codemirror_mode": {
        "name": "ipython",
        "version": 3
      },
      "file_extension": ".py",
      "mimetype": "text/x-python",
      "name": "python",
      "nbconvert_exporter": "python",
      "pygments_lexer": "ipython3",
      "version": "3.7.3"
    }
  },
  "cells": [
    {
      "cell_type": "markdown",
      "metadata": {
        "id": "view-in-github",
        "colab_type": "text"
      },
      "source": [
        "<a href=\"https://colab.research.google.com/github/akaashpatel10/Complete-Python-3-Bootcamp/blob/master/Week6_data_prep_visualization_homework.ipynb\" target=\"_parent\"><img src=\"https://colab.research.google.com/assets/colab-badge.svg\" alt=\"Open In Colab\"/></a>"
      ]
    },
    {
      "cell_type": "markdown",
      "metadata": {
        "colab_type": "text",
        "id": "GP-HalC3roLG"
      },
      "source": [
        "# Data Prep and Visualization in Python\n",
        "\n",
        "In this project, we'll work through munging a data set and creating visualizations related to trends in the airline industry in the middle of the last century. You'll get started using [MatPlotLib](https://matplotlib.org/), a very powerful and popular plotting library in Python that is covered in this week's course materials."
      ]
    },
    {
      "cell_type": "code",
      "metadata": {
        "colab_type": "code",
        "id": "qewntzwSpil5",
        "colab": {
          "base_uri": "https://localhost:8080/",
          "height": 139
        },
        "outputId": "e08dce2a-5a44-4aaa-904b-add374020a5a"
      },
      "source": [
        "# Install the pydataset package. This package gives us data sets to work with very easily\n",
        "! pip install pydataset"
      ],
      "execution_count": null,
      "outputs": [
        {
          "output_type": "stream",
          "text": [
            "Requirement already satisfied: pydataset in /usr/local/lib/python3.6/dist-packages (0.2.0)\n",
            "Requirement already satisfied: pandas in /usr/local/lib/python3.6/dist-packages (from pydataset) (1.0.5)\n",
            "Requirement already satisfied: numpy>=1.13.3 in /usr/local/lib/python3.6/dist-packages (from pandas->pydataset) (1.18.5)\n",
            "Requirement already satisfied: pytz>=2017.2 in /usr/local/lib/python3.6/dist-packages (from pandas->pydataset) (2018.9)\n",
            "Requirement already satisfied: python-dateutil>=2.6.1 in /usr/local/lib/python3.6/dist-packages (from pandas->pydataset) (2.8.1)\n",
            "Requirement already satisfied: six>=1.5 in /usr/local/lib/python3.6/dist-packages (from python-dateutil>=2.6.1->pandas->pydataset) (1.15.0)\n"
          ],
          "name": "stdout"
        }
      ]
    },
    {
      "cell_type": "code",
      "metadata": {
        "colab_type": "code",
        "id": "r3HfRWoSVIfW",
        "colab": {}
      },
      "source": [
        "# The convention for importing matplotlib with an alias is \"plt\". We'll also need pandas and numpy\n",
        "\n",
        "import pandas as pd\n",
        "import matplotlib.pyplot as plt\n",
        "import numpy as np"
      ],
      "execution_count": null,
      "outputs": []
    },
    {
      "cell_type": "markdown",
      "metadata": {
        "colab_type": "text",
        "id": "wJt4tazuRpEL"
      },
      "source": [
        "## The Air Passengers Dataset\n",
        "\n",
        "This dataset shows the number of passengers flying United States airlines by month from 1949-1960. Your job is to do various data munging operations on this dataset to clean it up and prepare it for several visualizations. You will then determine what code is needed to generate those visualizations."
      ]
    },
    {
      "cell_type": "code",
      "metadata": {
        "colab_type": "code",
        "id": "b7JyR8TRp-mL",
        "colab": {}
      },
      "source": [
        "from pydataset import data\n",
        "\n",
        "passengers = data('AirPassengers')"
      ],
      "execution_count": null,
      "outputs": []
    },
    {
      "cell_type": "markdown",
      "metadata": {
        "colab_type": "text",
        "id": "Za8LF_ubmIsV"
      },
      "source": [
        "Ugh. When we examine the head of this datset, we can see that the years are in decimal form rather than month and year. We'll need to change that before we can do our analysis.\n",
        "\n",
        "NOTE: The times are represented by twelfths. i.e. 1949.00000 = 149 0/12 (January). 1949.083333 = 1949 1/12 (February), and so on."
      ]
    },
    {
      "cell_type": "code",
      "metadata": {
        "colab_type": "code",
        "id": "551KQ43sQ9uf",
        "colab": {
          "base_uri": "https://localhost:8080/",
          "height": 421
        },
        "outputId": "19c8cb76-a33a-4efc-b191-1907eaa1646a"
      },
      "source": [
        "passengers.head(12)"
      ],
      "execution_count": null,
      "outputs": [
        {
          "output_type": "execute_result",
          "data": {
            "text/html": [
              "<div>\n",
              "<style scoped>\n",
              "    .dataframe tbody tr th:only-of-type {\n",
              "        vertical-align: middle;\n",
              "    }\n",
              "\n",
              "    .dataframe tbody tr th {\n",
              "        vertical-align: top;\n",
              "    }\n",
              "\n",
              "    .dataframe thead th {\n",
              "        text-align: right;\n",
              "    }\n",
              "</style>\n",
              "<table border=\"1\" class=\"dataframe\">\n",
              "  <thead>\n",
              "    <tr style=\"text-align: right;\">\n",
              "      <th></th>\n",
              "      <th>time</th>\n",
              "      <th>AirPassengers</th>\n",
              "    </tr>\n",
              "  </thead>\n",
              "  <tbody>\n",
              "    <tr>\n",
              "      <th>1</th>\n",
              "      <td>1949.000000</td>\n",
              "      <td>112</td>\n",
              "    </tr>\n",
              "    <tr>\n",
              "      <th>2</th>\n",
              "      <td>1949.083333</td>\n",
              "      <td>118</td>\n",
              "    </tr>\n",
              "    <tr>\n",
              "      <th>3</th>\n",
              "      <td>1949.166667</td>\n",
              "      <td>132</td>\n",
              "    </tr>\n",
              "    <tr>\n",
              "      <th>4</th>\n",
              "      <td>1949.250000</td>\n",
              "      <td>129</td>\n",
              "    </tr>\n",
              "    <tr>\n",
              "      <th>5</th>\n",
              "      <td>1949.333333</td>\n",
              "      <td>121</td>\n",
              "    </tr>\n",
              "    <tr>\n",
              "      <th>6</th>\n",
              "      <td>1949.416667</td>\n",
              "      <td>135</td>\n",
              "    </tr>\n",
              "    <tr>\n",
              "      <th>7</th>\n",
              "      <td>1949.500000</td>\n",
              "      <td>148</td>\n",
              "    </tr>\n",
              "    <tr>\n",
              "      <th>8</th>\n",
              "      <td>1949.583333</td>\n",
              "      <td>148</td>\n",
              "    </tr>\n",
              "    <tr>\n",
              "      <th>9</th>\n",
              "      <td>1949.666667</td>\n",
              "      <td>136</td>\n",
              "    </tr>\n",
              "    <tr>\n",
              "      <th>10</th>\n",
              "      <td>1949.750000</td>\n",
              "      <td>119</td>\n",
              "    </tr>\n",
              "    <tr>\n",
              "      <th>11</th>\n",
              "      <td>1949.833333</td>\n",
              "      <td>104</td>\n",
              "    </tr>\n",
              "    <tr>\n",
              "      <th>12</th>\n",
              "      <td>1949.916667</td>\n",
              "      <td>118</td>\n",
              "    </tr>\n",
              "  </tbody>\n",
              "</table>\n",
              "</div>"
            ],
            "text/plain": [
              "           time  AirPassengers\n",
              "1   1949.000000            112\n",
              "2   1949.083333            118\n",
              "3   1949.166667            132\n",
              "4   1949.250000            129\n",
              "5   1949.333333            121\n",
              "6   1949.416667            135\n",
              "7   1949.500000            148\n",
              "8   1949.583333            148\n",
              "9   1949.666667            136\n",
              "10  1949.750000            119\n",
              "11  1949.833333            104\n",
              "12  1949.916667            118"
            ]
          },
          "metadata": {
            "tags": []
          },
          "execution_count": 43
        }
      ]
    },
    {
      "cell_type": "code",
      "metadata": {
        "colab_type": "code",
        "id": "kkUMUp44mOj8",
        "colab": {}
      },
      "source": [
        ""
      ],
      "execution_count": null,
      "outputs": []
    },
    {
      "cell_type": "markdown",
      "metadata": {
        "colab_type": "text",
        "id": "5wnzkVC4kQnc"
      },
      "source": [
        "## The decimal years complicate the EDA work\n",
        "\n",
        "We need to deal with this by making explicit month and year columns. It is common to have to reformat columns like this in a dataframe"
      ]
    },
    {
      "cell_type": "markdown",
      "metadata": {
        "colab_type": "text",
        "id": "KbRfTZMUjzuP"
      },
      "source": [
        "## #1 Add a 'year' column to passengers that reflects the current year"
      ]
    },
    {
      "cell_type": "code",
      "metadata": {
        "colab_type": "code",
        "id": "CWyRNghdSI9I",
        "colab": {
          "base_uri": "https://localhost:8080/",
          "height": 421
        },
        "outputId": "64146c02-d6df-452b-d299-755556fc8c78"
      },
      "source": [
        "# TODO\n",
        "passengers['year'] = passengers['time'].astype(int)\n",
        "\n",
        "passengers.head(12)"
      ],
      "execution_count": null,
      "outputs": [
        {
          "output_type": "execute_result",
          "data": {
            "text/html": [
              "<div>\n",
              "<style scoped>\n",
              "    .dataframe tbody tr th:only-of-type {\n",
              "        vertical-align: middle;\n",
              "    }\n",
              "\n",
              "    .dataframe tbody tr th {\n",
              "        vertical-align: top;\n",
              "    }\n",
              "\n",
              "    .dataframe thead th {\n",
              "        text-align: right;\n",
              "    }\n",
              "</style>\n",
              "<table border=\"1\" class=\"dataframe\">\n",
              "  <thead>\n",
              "    <tr style=\"text-align: right;\">\n",
              "      <th></th>\n",
              "      <th>time</th>\n",
              "      <th>AirPassengers</th>\n",
              "      <th>year</th>\n",
              "    </tr>\n",
              "  </thead>\n",
              "  <tbody>\n",
              "    <tr>\n",
              "      <th>1</th>\n",
              "      <td>1949.000000</td>\n",
              "      <td>112</td>\n",
              "      <td>1949</td>\n",
              "    </tr>\n",
              "    <tr>\n",
              "      <th>2</th>\n",
              "      <td>1949.083333</td>\n",
              "      <td>118</td>\n",
              "      <td>1949</td>\n",
              "    </tr>\n",
              "    <tr>\n",
              "      <th>3</th>\n",
              "      <td>1949.166667</td>\n",
              "      <td>132</td>\n",
              "      <td>1949</td>\n",
              "    </tr>\n",
              "    <tr>\n",
              "      <th>4</th>\n",
              "      <td>1949.250000</td>\n",
              "      <td>129</td>\n",
              "      <td>1949</td>\n",
              "    </tr>\n",
              "    <tr>\n",
              "      <th>5</th>\n",
              "      <td>1949.333333</td>\n",
              "      <td>121</td>\n",
              "      <td>1949</td>\n",
              "    </tr>\n",
              "    <tr>\n",
              "      <th>6</th>\n",
              "      <td>1949.416667</td>\n",
              "      <td>135</td>\n",
              "      <td>1949</td>\n",
              "    </tr>\n",
              "    <tr>\n",
              "      <th>7</th>\n",
              "      <td>1949.500000</td>\n",
              "      <td>148</td>\n",
              "      <td>1949</td>\n",
              "    </tr>\n",
              "    <tr>\n",
              "      <th>8</th>\n",
              "      <td>1949.583333</td>\n",
              "      <td>148</td>\n",
              "      <td>1949</td>\n",
              "    </tr>\n",
              "    <tr>\n",
              "      <th>9</th>\n",
              "      <td>1949.666667</td>\n",
              "      <td>136</td>\n",
              "      <td>1949</td>\n",
              "    </tr>\n",
              "    <tr>\n",
              "      <th>10</th>\n",
              "      <td>1949.750000</td>\n",
              "      <td>119</td>\n",
              "      <td>1949</td>\n",
              "    </tr>\n",
              "    <tr>\n",
              "      <th>11</th>\n",
              "      <td>1949.833333</td>\n",
              "      <td>104</td>\n",
              "      <td>1949</td>\n",
              "    </tr>\n",
              "    <tr>\n",
              "      <th>12</th>\n",
              "      <td>1949.916667</td>\n",
              "      <td>118</td>\n",
              "      <td>1949</td>\n",
              "    </tr>\n",
              "  </tbody>\n",
              "</table>\n",
              "</div>"
            ],
            "text/plain": [
              "           time  AirPassengers  year\n",
              "1   1949.000000            112  1949\n",
              "2   1949.083333            118  1949\n",
              "3   1949.166667            132  1949\n",
              "4   1949.250000            129  1949\n",
              "5   1949.333333            121  1949\n",
              "6   1949.416667            135  1949\n",
              "7   1949.500000            148  1949\n",
              "8   1949.583333            148  1949\n",
              "9   1949.666667            136  1949\n",
              "10  1949.750000            119  1949\n",
              "11  1949.833333            104  1949\n",
              "12  1949.916667            118  1949"
            ]
          },
          "metadata": {
            "tags": []
          },
          "execution_count": 44
        }
      ]
    },
    {
      "cell_type": "markdown",
      "metadata": {
        "colab_type": "text",
        "id": "1oVHWw-XkIKi"
      },
      "source": [
        "## #2 Add a \"month\" column\n",
        "\n",
        "Set this up in such a way that January is represented with a 1, February with a 2, etc.\n",
        "\n",
        "*Hint: create a new data frame with the months and their decimal equivalents, and then use a join.*"
      ]
    },
    {
      "cell_type": "code",
      "metadata": {
        "colab_type": "code",
        "id": "jRtzPhybR7Z0",
        "colab": {
          "base_uri": "https://localhost:8080/",
          "height": 421
        },
        "outputId": "3a10c226-da4c-4366-b813-a8ddbd4ea472"
      },
      "source": [
        "# TODO\n",
        "\n",
        "passengers['month_number'] = (passengers['time']-passengers['year'])*12\n",
        "\n",
        "data = {'month_number': [1.0,2.0,3.0,4.0,5.0,6.0,7.0,8.0,9.0,10.0,11.0,12.0], 'month': ['January', 'February', 'March', 'April', 'May', 'June', 'July', 'August','September', 'October', 'November', 'December']}\n",
        "\n",
        "month_mapping = pd.DataFrame.from_dict(data)\n",
        "\n",
        "month_mapping.head(12)\n",
        "\n",
        "passengers_clean = passengers.merge(month_mapping, on='month_number')\n",
        "\n",
        "passengers_clean.head(12)"
      ],
      "execution_count": null,
      "outputs": [
        {
          "output_type": "execute_result",
          "data": {
            "text/html": [
              "<div>\n",
              "<style scoped>\n",
              "    .dataframe tbody tr th:only-of-type {\n",
              "        vertical-align: middle;\n",
              "    }\n",
              "\n",
              "    .dataframe tbody tr th {\n",
              "        vertical-align: top;\n",
              "    }\n",
              "\n",
              "    .dataframe thead th {\n",
              "        text-align: right;\n",
              "    }\n",
              "</style>\n",
              "<table border=\"1\" class=\"dataframe\">\n",
              "  <thead>\n",
              "    <tr style=\"text-align: right;\">\n",
              "      <th></th>\n",
              "      <th>time</th>\n",
              "      <th>AirPassengers</th>\n",
              "      <th>year</th>\n",
              "      <th>month_number</th>\n",
              "      <th>month</th>\n",
              "    </tr>\n",
              "  </thead>\n",
              "  <tbody>\n",
              "    <tr>\n",
              "      <th>0</th>\n",
              "      <td>1949.25</td>\n",
              "      <td>129</td>\n",
              "      <td>1949</td>\n",
              "      <td>3.0</td>\n",
              "      <td>March</td>\n",
              "    </tr>\n",
              "    <tr>\n",
              "      <th>1</th>\n",
              "      <td>1950.25</td>\n",
              "      <td>135</td>\n",
              "      <td>1950</td>\n",
              "      <td>3.0</td>\n",
              "      <td>March</td>\n",
              "    </tr>\n",
              "    <tr>\n",
              "      <th>2</th>\n",
              "      <td>1951.25</td>\n",
              "      <td>163</td>\n",
              "      <td>1951</td>\n",
              "      <td>3.0</td>\n",
              "      <td>March</td>\n",
              "    </tr>\n",
              "    <tr>\n",
              "      <th>3</th>\n",
              "      <td>1952.25</td>\n",
              "      <td>181</td>\n",
              "      <td>1952</td>\n",
              "      <td>3.0</td>\n",
              "      <td>March</td>\n",
              "    </tr>\n",
              "    <tr>\n",
              "      <th>4</th>\n",
              "      <td>1953.25</td>\n",
              "      <td>235</td>\n",
              "      <td>1953</td>\n",
              "      <td>3.0</td>\n",
              "      <td>March</td>\n",
              "    </tr>\n",
              "    <tr>\n",
              "      <th>5</th>\n",
              "      <td>1954.25</td>\n",
              "      <td>227</td>\n",
              "      <td>1954</td>\n",
              "      <td>3.0</td>\n",
              "      <td>March</td>\n",
              "    </tr>\n",
              "    <tr>\n",
              "      <th>6</th>\n",
              "      <td>1955.25</td>\n",
              "      <td>269</td>\n",
              "      <td>1955</td>\n",
              "      <td>3.0</td>\n",
              "      <td>March</td>\n",
              "    </tr>\n",
              "    <tr>\n",
              "      <th>7</th>\n",
              "      <td>1956.25</td>\n",
              "      <td>313</td>\n",
              "      <td>1956</td>\n",
              "      <td>3.0</td>\n",
              "      <td>March</td>\n",
              "    </tr>\n",
              "    <tr>\n",
              "      <th>8</th>\n",
              "      <td>1957.25</td>\n",
              "      <td>348</td>\n",
              "      <td>1957</td>\n",
              "      <td>3.0</td>\n",
              "      <td>March</td>\n",
              "    </tr>\n",
              "    <tr>\n",
              "      <th>9</th>\n",
              "      <td>1958.25</td>\n",
              "      <td>348</td>\n",
              "      <td>1958</td>\n",
              "      <td>3.0</td>\n",
              "      <td>March</td>\n",
              "    </tr>\n",
              "    <tr>\n",
              "      <th>10</th>\n",
              "      <td>1959.25</td>\n",
              "      <td>396</td>\n",
              "      <td>1959</td>\n",
              "      <td>3.0</td>\n",
              "      <td>March</td>\n",
              "    </tr>\n",
              "    <tr>\n",
              "      <th>11</th>\n",
              "      <td>1960.25</td>\n",
              "      <td>461</td>\n",
              "      <td>1960</td>\n",
              "      <td>3.0</td>\n",
              "      <td>March</td>\n",
              "    </tr>\n",
              "  </tbody>\n",
              "</table>\n",
              "</div>"
            ],
            "text/plain": [
              "       time  AirPassengers  year  month_number  month\n",
              "0   1949.25            129  1949           3.0  March\n",
              "1   1950.25            135  1950           3.0  March\n",
              "2   1951.25            163  1951           3.0  March\n",
              "3   1952.25            181  1952           3.0  March\n",
              "4   1953.25            235  1953           3.0  March\n",
              "5   1954.25            227  1954           3.0  March\n",
              "6   1955.25            269  1955           3.0  March\n",
              "7   1956.25            313  1956           3.0  March\n",
              "8   1957.25            348  1957           3.0  March\n",
              "9   1958.25            348  1958           3.0  March\n",
              "10  1959.25            396  1959           3.0  March\n",
              "11  1960.25            461  1960           3.0  March"
            ]
          },
          "metadata": {
            "tags": []
          },
          "execution_count": 57
        }
      ]
    },
    {
      "cell_type": "markdown",
      "metadata": {
        "colab_type": "text",
        "id": "utfFu-ZEmWqC"
      },
      "source": [
        "## #3 Generate the plot below of passengers vs. time using each monthly count"
      ]
    },
    {
      "cell_type": "markdown",
      "metadata": {
        "colab_type": "text",
        "id": "k1GXeWFrvRu3"
      },
      "source": [
        "<a href='https://drive.google.com/file/d/1PdaXbkCVzUXBnUP6c6cLP3nZ94ShSLg1/view?usp=embed_facebook&source=ctrlq.org'><img src='https://lh4.googleusercontent.com/7EHckqyjefS7rN8-gAtj2SgSyKfV3wlTnGKqCwzOf85F6NYlqYQbz7bDfWw=w2400' /></a>"
      ]
    },
    {
      "cell_type": "code",
      "metadata": {
        "colab_type": "code",
        "id": "rBTg_cjYchXx",
        "colab": {}
      },
      "source": [
        "# TODO"
      ],
      "execution_count": null,
      "outputs": []
    },
    {
      "cell_type": "markdown",
      "metadata": {
        "colab_type": "text",
        "id": "TBN2gDr0mirA"
      },
      "source": [
        "## #4 Generate the plot below of passengers vs. time using an annual count"
      ]
    },
    {
      "cell_type": "markdown",
      "metadata": {
        "colab_type": "text",
        "id": "ZbBkmkqGhXDM"
      },
      "source": [
        "<a href='https://drive.google.com/file/d/19WYHQR7sFgaeN5ZHlwx5x1-o-wxJ4weW/view?usp=sharing&amp;usp=embed_facebook&source=ctrlq.org'><img src='https://lh4.googleusercontent.com/2gbHNgm8UhbCEevaUBpMUSvVgk_6QuxMASqn9-wK1NdzrDXrcF-VIWK_o08=w2400' /></a>"
      ]
    },
    {
      "cell_type": "code",
      "metadata": {
        "colab_type": "code",
        "id": "hm5yM1ZRchcP",
        "colab": {}
      },
      "source": [
        "# TODO"
      ],
      "execution_count": null,
      "outputs": []
    },
    {
      "cell_type": "markdown",
      "metadata": {
        "colab_type": "text",
        "id": "UhgoE32QmvOT"
      },
      "source": [
        "## #5 Generate the barplot below of passengers by year"
      ]
    },
    {
      "cell_type": "markdown",
      "metadata": {
        "colab_type": "text",
        "id": "Uzx6rfephZfH"
      },
      "source": [
        "<a href='https://drive.google.com/file/d/1-4NF40zvVhwi6RWagJu98BaBuDNOXaEd/view?usp=sharing&amp;usp=embed_facebook&source=ctrlq.org'><img src='https://lh6.googleusercontent.com/IQRk35KApDIxYtHGH3WoczLnCvHCRdMNlHw64rgLWPYUostOoAn2hxp8lZA=w2400' /></a>"
      ]
    },
    {
      "cell_type": "code",
      "metadata": {
        "colab_type": "code",
        "id": "EiQRmMUrhqc_",
        "colab": {}
      },
      "source": [
        "# TODO"
      ],
      "execution_count": null,
      "outputs": []
    },
    {
      "cell_type": "markdown",
      "metadata": {
        "colab_type": "text",
        "id": "E_nSuT-lm2eD"
      },
      "source": [
        "## #6 Generate the histogram below of monthly passengers\n",
        "\n",
        "**Additional requirements:**\n",
        "\n",
        "* Only include 1955 and beyond\n",
        "* Use a binwidth of 50, a min of 200, and a max of 700\n",
        "* Set the yticks to start at 0, end at 25 by interval of 5"
      ]
    },
    {
      "cell_type": "markdown",
      "metadata": {
        "colab_type": "text",
        "id": "722_suwhjTn7"
      },
      "source": [
        "<a href='https://drive.google.com/file/d/1mEtvUbnh2LcDDc73LNr_qX984HzgyhiQ/view?usp=sharing&amp;usp=embed_facebook&source=ctrlq.org'><img src='https://lh6.googleusercontent.com/7I2FzRPSQPyoalFcwH3vTDeB9Gf80OUlaZOs1x9oRRYyQLlHXPU9H-NhSVQ=w2400' /></a>"
      ]
    },
    {
      "cell_type": "code",
      "metadata": {
        "colab_type": "code",
        "id": "ftWwUO2xchgS",
        "colab": {}
      },
      "source": [
        "# TODO"
      ],
      "execution_count": null,
      "outputs": []
    },
    {
      "cell_type": "markdown",
      "metadata": {
        "colab_type": "text",
        "id": "3hjNa7QanRw9"
      },
      "source": [
        "## #7 Generate the histogram below of monthly passengers\n",
        "\n",
        "**Additional requirements:**\n",
        "\n",
        "* Generate two groups to compare. Group 1 should be the years 1949-1950. Group 2 should be the years 1959-60.\n",
        "* Binwidth of 50 from 100 to 700\n",
        "* yticks from 0 to 24, spaced by 2\n",
        "* Be sure to include a legend"
      ]
    },
    {
      "cell_type": "markdown",
      "metadata": {
        "colab_type": "text",
        "id": "ngsm2iZDjxOY"
      },
      "source": [
        "<a href='https://drive.google.com/file/d/1gqJbBVOPIurYikUIDpXoAF3gZx2p8lUA/view?usp=sharing&amp;usp=embed_facebook&source=ctrlq.org'><img src='https://lh3.googleusercontent.com/Ok91nFY8Srjn1FpVwOil9ycH9y6isZejTqi7hifqaEA5E3tWpkwldWVLo3U=w2400' /></a>"
      ]
    },
    {
      "cell_type": "code",
      "metadata": {
        "colab_type": "code",
        "id": "rPa1CQzrchk7",
        "colab": {}
      },
      "source": [
        "# TODO"
      ],
      "execution_count": null,
      "outputs": []
    },
    {
      "cell_type": "markdown",
      "metadata": {
        "colab_type": "text",
        "id": "fpdrlfEhnijm"
      },
      "source": [
        "## #8 Generate the time plot below\n",
        "\n",
        "**Additional requirements:**\n",
        "\n",
        "* Compare 1950, 1955, and 1960 by month"
      ]
    },
    {
      "cell_type": "markdown",
      "metadata": {
        "colab_type": "text",
        "id": "dUKGfwnWksbP"
      },
      "source": [
        "<a href='https://drive.google.com/file/d/11nVH5EiYxxtJ48isS9VLtwLIjn0hALXV/view?usp=sharing&amp;usp=embed_facebook&source=ctrlq.org'><img src='https://lh3.googleusercontent.com/SKfWqBE324A__VS8V-TBqMQXHWE9OUjVoJyeyJME8uJzyfWS73aaCms7A3c=w2400' /></a>"
      ]
    },
    {
      "cell_type": "code",
      "metadata": {
        "colab_type": "code",
        "id": "lRzhSibJkCWZ",
        "colab": {}
      },
      "source": [
        "# TODO"
      ],
      "execution_count": null,
      "outputs": []
    },
    {
      "cell_type": "markdown",
      "metadata": {
        "colab_type": "text",
        "id": "m-Kq84DKpRdy"
      },
      "source": [
        "## #9  Understand your data and tell a story\n",
        "\n",
        "* Which of these plots would you create first to explore your data before building a model or performing an analysis? Why?\n",
        "* If you could only use one of these plots to tell a story about air travel trends mid-centry, which would you use and why? What are some insights you could share?\n"
      ]
    },
    {
      "cell_type": "code",
      "metadata": {
        "colab_type": "code",
        "id": "3OEXegrnQhKp",
        "colab": {}
      },
      "source": [
        "# TODO"
      ],
      "execution_count": null,
      "outputs": []
    }
  ]
}