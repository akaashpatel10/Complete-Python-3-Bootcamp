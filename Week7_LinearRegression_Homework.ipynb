{
  "nbformat": 4,
  "nbformat_minor": 0,
  "metadata": {
    "anaconda-cloud": {},
    "colab": {
      "name": "Week7_LinearRegression_Homework.ipynb",
      "provenance": [],
      "collapsed_sections": [],
      "include_colab_link": true
    },
    "kernelspec": {
      "display_name": "Python 3",
      "language": "python",
      "name": "python3"
    },
    "language_info": {
      "codemirror_mode": {
        "name": "ipython",
        "version": 3
      },
      "file_extension": ".py",
      "mimetype": "text/x-python",
      "name": "python",
      "nbconvert_exporter": "python",
      "pygments_lexer": "ipython3",
      "version": "3.7.5"
    }
  },
  "cells": [
    {
      "cell_type": "markdown",
      "metadata": {
        "id": "view-in-github",
        "colab_type": "text"
      },
      "source": [
        "<a href=\"https://colab.research.google.com/github/akaashpatel10/Complete-Python-3-Bootcamp/blob/master/Week7_LinearRegression_Homework.ipynb\" target=\"_parent\"><img src=\"https://colab.research.google.com/assets/colab-badge.svg\" alt=\"Open In Colab\"/></a>"
      ]
    },
    {
      "cell_type": "markdown",
      "metadata": {
        "colab_type": "text",
        "id": "o-CrO0eeDHXi"
      },
      "source": [
        "## Week7 LinearRegression\n",
        "\n",
        "In week 7, we've covered:\n",
        "* Basic machine learning concepts and workflow\n",
        "* Linear regression\n",
        "  \n",
        "  \n",
        "In this notebook,  we will work on the Boston housing dataset and build a linear regression model to predict value of houses. \n",
        "\n",
        "The dataset for this project originates from the [UCI Machine Learning Repository](https://archive.ics.uci.edu/ml/machine-learning-databases/housing/). The Boston housing data was collected in 1978 and each of the 506 entries represents aggregated data about 14 features for homes from various suburbs in Boston, Massachusetts. For the purposes of this project, the following preprocessing steps have been made to the dataset:\n",
        "- 16 data points have an `'MEDV'` value of 50.0. These data points likely contain **missing or censored values** and have been removed.\n",
        "- 1 data point has an `'RM'` value of 8.78. This data point can be considered an **outlier** and has been removed.\n",
        "- The features `'RM'`, `'LSTAT'`, `'PTRATIO'`, and `'MEDV'` are essential. The remaining **non-relevant features** have been excluded.\n",
        "- The feature `'MEDV'` has been **multiplicatively scaled** to account for 35 years of market inflation.  \n",
        "  \n",
        "  \n",
        "A model trained on this data that is seen as a *good fit* could then be used to make certain predictions about a home — in particular, its monetary value. This model would prove to be invaluable for someone like a real estate agent who could make use of such information on a daily basis.  \n",
        "  \n",
        "  \n",
        "Instructions will be provided for each section and the specifics of the implementation are marked in the code block with a **TODO** statement and \"____\"\n",
        ".\n",
        "\n",
        ">**Note:** Code and Markdown cells can be executed using the **Shift + Enter** keyboard shortcut. In addition, Markdown cells can be edited by typically double-clicking the cell to enter edit mode."
      ]
    },
    {
      "cell_type": "markdown",
      "metadata": {
        "colab_type": "text",
        "id": "yjfBOjf-0tKQ"
      },
      "source": [
        "Upload **Week7_LinearRegression_Homework.ipynb** and **housing.csv** to Google Drive."
      ]
    },
    {
      "cell_type": "code",
      "metadata": {
        "colab_type": "code",
        "id": "EOPLgkVrNhet",
        "colab": {
          "base_uri": "https://localhost:8080/",
          "height": 34
        },
        "outputId": "140537d2-c957-44be-c19e-878157c9d5da"
      },
      "source": [
        "# Mount your Google Drive on your runtime using an authorization code\n",
        "from google.colab import drive\n",
        "\n",
        "drive.mount('/content/drive')"
      ],
      "execution_count": 38,
      "outputs": [
        {
          "output_type": "stream",
          "text": [
            "Drive already mounted at /content/drive; to attempt to forcibly remount, call drive.mount(\"/content/drive\", force_remount=True).\n"
          ],
          "name": "stdout"
        }
      ]
    },
    {
      "cell_type": "markdown",
      "metadata": {
        "colab_type": "text",
        "id": "Wm1lijMASx2f"
      },
      "source": [
        "**TODO**: Replace **`YourFolderName`**  below with the folder name on your google drive where you put the `housing.csv` file. Run the cell, check if `housing.csv` is listed."
      ]
    },
    {
      "cell_type": "code",
      "metadata": {
        "colab_type": "code",
        "id": "g-Wrtw44R766",
        "colab": {
          "base_uri": "https://localhost:8080/",
          "height": 1000
        },
        "outputId": "1ce3f64e-dc6d-46f6-8ca9-071743925782"
      },
      "source": [
        "%ls /content/drive/My\\ Drive"
      ],
      "execution_count": 39,
      "outputs": [
        {
          "output_type": "stream",
          "text": [
            "'06 04 Updated Pacing.gsheet'\n",
            "'13KBMF6LRbuEET--y6CU6A (1).gsheet'\n",
            " 13KBMF6LRbuEET--y6CU6A.gsheet\n",
            "'20190607-FS Scavanger Hunt.gdoc'\n",
            "'20190611-Loans Cheat Sheet.gdoc'\n",
            "'20190614-CL History & Priority Changes.gslides'\n",
            "'20190614-Loans SOTU Notes.gdoc'\n",
            " 20190616_SUCO.gsheet\n",
            "'20190620-Site Audit Notes_v1.gdoc'\n",
            "'20190620-Site Audit Notes_v2.gdoc'\n",
            "'20190621-FS Audit.gslides'\n",
            "'20190627 - BT Product Data - Last 30 das .gsheet'\n",
            "'2020 Q1 RPC Forecasting (PPC).gsheet'\n",
            "'2. RAPID Scoring Sheet.docx'\n",
            "'2. RAPID Scoring Sheet.gdoc'\n",
            "'3. RAPID 360 Feedback Sheet for Employees.xlsx'\n",
            "'3xuVe9yuT0-jXDYpQndw6Q (1).gsheet'\n",
            "'3xuVe9yuT0-jXDYpQndw6Q (2).gsheet'\n",
            " 3xuVe9yuT0-jXDYpQndw6Q.gsheet\n",
            "'5. RVU Full Year Review Template 2019.docx'\n",
            "'5. RVU Full Year Review Template 2019.gdoc'\n",
            "'6. RVU Full Year Review FAQs.docx'\n",
            "'6. RVU Full Year Review FAQs.gdoc'\n",
            "'A B Test Dashboard Template in Tableau.gslides'\n",
            "'A B Testing Documentation.gdoc'\n",
            "'AEM Slides.gslides'\n",
            " akaash_good_burger_film.jpg\n",
            "'Akaash Patel - Benefit: Life Assurance Nomination Form.docx'\n",
            "'Akaash RAPID 2019 11.gdoc'\n",
            "\"Akaash's decks rolling.gslides\"\n",
            "'All Session Test.gsheet'\n",
            "'App Analytics Weekly Check-in.gslides'\n",
            "'App Query Results.gsheet'\n",
            "'Appsflyer data with comparison.gsheet'\n",
            "'App Team Aligning.gslides'\n",
            "'avxG5pWoRWWy5a5tLF6ESw (1).gsheet'\n",
            " avxG5pWoRWWy5a5tLF6ESw.gsheet\n",
            "'BAME-RVU Kick Off Breakout Group 1.gdoc'\n",
            "'Beetle Phase Out - Global Validation.gsheet'\n",
            "'Blank RVU template.gslides'\n",
            "'Bounce Rate Bus Case.gsheet'\n",
            " \u001b[0m\u001b[01;34mbq-results-20190828-091111-losa8mt4li13\u001b[0m/\n",
            " \u001b[01;34mbq-results-20190930-122246-j606kym2zl9y\u001b[0m/\n",
            " \u001b[01;34mbq-results-20191008-094333-9jcc6aqjy96f\u001b[0m/\n",
            " \u001b[01;34mbq-results-20191014-154649-slqbdtj3v2wz\u001b[0m/\n",
            " \u001b[01;34mbq-results-20191022-144022-7vk2s0vxxm0s\u001b[0m/\n",
            " \u001b[01;34mbq-results-20200409-143724-3x1gqn5vpmpz\u001b[0m/\n",
            " \u001b[01;34mbq-results-20200409-144317-e4l4grbhyx3c\u001b[0m/\n",
            " \u001b[01;34mbq-results-20200409-145922-2by771br5ghi\u001b[0m/\n",
            " \u001b[01;34mbq-results-20200409-150901-7o29y7ajgbf\u001b[0m/\n",
            " \u001b[01;34mbq-results-20200409-162819-oy09p0xijm08\u001b[0m/\n",
            "'BR Forced EC - Pres Points.gdoc'\n",
            " budget_2020_01.gsheet\n",
            "'Campaign Groupings.gsheet'\n",
            "'Campaign report.gsheet'\n",
            "'CC Regroup.gsheet'\n",
            "'Clickout Category Grouping.gsheet'\n",
            "\u001b[01;34m'Colab Notebooks'\u001b[0m/\n",
            "'Comms Bing PPC Sessions.gsheet'\n",
            "'Credit Cards Funnel Comparison: Uswitch v Money.gslides'\n",
            "'Credit Cards Jan Prep.gdoc'\n",
            " cvrdata.csv\n",
            " cvrdata.gsheet\n",
            "'daily flash estimates 29 06.gsheet'\n",
            "'Dashboards for Insight and Impact.gdoc'\n",
            "'Data Robot use cases.gsheet'\n",
            "'Dead-end dashboards.gdoc'\n",
            "'DL Data.gsheet'\n",
            "'EC Conversion Rates.gsheet'\n",
            "'EC Form Uplift.gsheet'\n",
            "'EC Multiplier Calcs.gsheet'\n",
            "'EC Multipliers.gsheet'\n",
            "'eEcCy5lHQGy5HEGKwRGTMw (10).gsheet'\n",
            "'eEcCy5lHQGy5HEGKwRGTMw (11).gsheet'\n",
            "'eEcCy5lHQGy5HEGKwRGTMw (12).gsheet'\n",
            "'eEcCy5lHQGy5HEGKwRGTMw (13).gsheet'\n",
            "'eEcCy5lHQGy5HEGKwRGTMw (14).gsheet'\n",
            "'eEcCy5lHQGy5HEGKwRGTMw (1).gsheet'\n",
            "'eEcCy5lHQGy5HEGKwRGTMw (2).gsheet'\n",
            "'eEcCy5lHQGy5HEGKwRGTMw (3).gsheet'\n",
            "'eEcCy5lHQGy5HEGKwRGTMw (4).gsheet'\n",
            "'eEcCy5lHQGy5HEGKwRGTMw (5).gsheet'\n",
            "'eEcCy5lHQGy5HEGKwRGTMw (6).gsheet'\n",
            "'eEcCy5lHQGy5HEGKwRGTMw (7).gsheet'\n",
            "'eEcCy5lHQGy5HEGKwRGTMw (8).gsheet'\n",
            "'eEcCy5lHQGy5HEGKwRGTMw (9).gsheet'\n",
            " eEcCy5lHQGy5HEGKwRGTMw.gsheet\n",
            "'Financial Services Migration Tracker.gsheet'\n",
            "'Financial Services - Pre RPC update02Apr.gsheet'\n",
            "'fivetran scoping.gsheet'\n",
            " fivetran_test_AP.gsheet\n",
            "'Fluent December Funded Loans.gsheet'\n",
            "'Fluent - Secured Loans Agreement - Execution Version 11 December 2019.docx'\n",
            "'Forced Eligibility - What went wrong?.gdoc'\n",
            "'For the love of food.gsheet'\n",
            "'FS01 Test Results.gdoc'\n",
            "'FS01 uSwitch Eligibility Checker Form Redesign.gslides'\n",
            "'fs02 test data.gsheet'\n",
            "'FS02 Test Results.gdoc'\n",
            "'FS03 Test Results.gdoc'\n",
            "'FS09 Monevo Page re-attribution.gsheet'\n",
            "'FS10 Product_ids.gsheet'\n",
            "'FS - Alerts.gsheet'\n",
            "'FS DataRobot Sample.gsheet'\n",
            "'FS Savings Claims.gsheet'\n",
            "'FS Summary Groupings.gsheet'\n",
            "'GA Eventing Checklist.gsheet'\n",
            "'Gender I&D kick-off meeting breakout group template.docx'\n",
            "'Getting started.pdf'\n",
            "'Group 3 - Gender I&D kick-off meeting breakout group template.gdoc'\n",
            "'Hackathon - Debt Calculator Infographics.gsheet'\n",
            "'Hackday - Debt Calculator.gdoc'\n",
            " housing.csv\n",
            "'IDM Product Categorisation.gsheet'\n",
            "'Introduction to FS Data.gdoc'\n",
            "'IYED-RIYQbupvo8dFzUvJA (1).gsheet'\n",
            " IYED-RIYQbupvo8dFzUvJA.gsheet\n",
            "'Loans by campaign by day actuals.gsheet'\n",
            "'LW Secured Loans Discrepancy.gsheet'\n",
            "'Medium Groupings.gsheet'\n",
            "'Mobile App Metrics.gsheet'\n",
            "'Mobile App Numbers - Validation.gsheet'\n",
            "'Monevo 3 - Daily Slack Update.gsheet'\n",
            "'Monevo Daily Slack Update .gsheet'\n",
            "'Monevo Daily Update.gsheet'\n",
            "'Monevo Data Validation.gsheet'\n",
            "'Monevo DS Switch 07 09 2020.gsheet'\n",
            "'Monevo EPC 21 05.gsheet'\n",
            "'Monevo Funnel - Clickout to Fund 3.25% Target.gsheet'\n",
            "'Monevo Funnel Feb 11.gsheet'\n",
            "'Monevo Handover Doc.gdoc'\n",
            "'Monevo Performance.gsheet'\n",
            "'Monevo v3 - Additional Test Page Scoping.gsheet'\n",
            "'Monevo Validation.gsheet'\n",
            "'Money CC EC Checker - Direct Traffic.gsheet'\n",
            "'Money CC Most Popular Sizing.gsheet'\n",
            "'Money System Multipliers Validation.gsheet'\n",
            "'Mortagages LPs May-Aug 9th RPV.gsheet'\n",
            "'Mortgages + Unsecured Loans Landing Pages.gsheet'\n",
            "'Mortgage Widgets Monthly Revenue.gsheet'\n",
            "'MyFinance - The story so far.gdoc'\n",
            "'New RV Daily report (1).gsheet'\n",
            "'New RV Daily report (1).xlsx'\n",
            "'New RV Daily report (2).gsheet'\n",
            "'New RV Daily report (2).xlsx'\n",
            "'New RV Daily report (3).gsheet'\n",
            "'New RV Daily report April 2020 (1).gsheet'\n",
            "'New RV Daily report April 2020 (1).xlsx'\n",
            "'New RV Daily report April 2020.gsheet'\n",
            "'New RV Daily report April 2020.xlsx'\n",
            "'New RV Daily report.gsheet'\n",
            "'New RV Daily report March 2020 (1).gsheet'\n",
            "'New RV Daily report March 2020 (1).xlsx'\n",
            "'New RV Daily report March 2020.gsheet'\n",
            "'New RV Daily report March 2020.xlsx'\n",
            "'New RV Daily report.xlsx'\n",
            "'New style RV daily report May 2020 (1).gsheet'\n",
            "'New style RV daily report May 2020 (1).xlsx'\n",
            "'New style RV daily report May 2020.gsheet'\n",
            "'New style RV daily report May 2020.xlsx'\n",
            "'Onboarding - How to Doc.gdoc'\n",
            "'Optimonster FS Business Case.gsheet'\n",
            "'Personal Loans September 19 Clicks Money Admin.gsheet'\n",
            "'Personal Loans September 19 Clicks Money Admin.xlsx'\n",
            "'P&L - KPI Impact troubleshooting.gsheet'\n",
            "'PPC Campaign Naming Convention.gsheet'\n",
            "'PPC Tests - Car + Remo.gsheet'\n",
            "'PRES TEMPLATE - Copy of CK_Giving a Pres.gslides'\n",
            "'Pub Quiz - Team A - Answer Sheet.gsheet'\n",
            "'Quick CTA Impact calc.gsheet'\n",
            "'Quiz Scoreboard.gsheet'\n",
            "'Rachel 360 Feddback.gdoc'\n",
            "'RAPID 360 Feedback for James Outhwaite.gsheet'\n",
            "'RAPID 360 Feedback Sheet for Akaash Patel.gsheet'\n",
            "'RAPID 360 Feedback Sheet for Florence Clutha.gsheet'\n",
            "'RAPID 360 Feedback Sheet for Liam Taylor.gsheet'\n",
            "'RAPID 360 Feedback Sheet for Rachel Cheek.gsheet'\n",
            " results-20190705-100031.gsheet\n",
            " results-20190726-133725.gsheet\n",
            " results-20190726-134115.gsheet\n",
            " results-20190801-103651.gsheet\n",
            " results-20190801-152511.gsheet\n",
            " results-20191009-093351.gsheet\n",
            " results-20191119-135322.gsheet\n",
            " results-20191119-135701.gsheet\n",
            " results-20200203-132911.gsheet\n",
            " results-20200518-110710.gsheet\n",
            " results-20200529-153046.gsheet\n",
            " results-20200612-123629.gsheet\n",
            " results-20200715-115705.gsheet\n",
            " results-20200715-115830.gsheet\n",
            " results-20200721-144214.gsheet\n",
            " results-20200722-091327.gsheet\n",
            " results-20200722-091425.gsheet\n",
            " results-20200722-153633.gsheet\n",
            " results-20200728-101159.gsheet\n",
            " results-20200803-093248.gsheet\n",
            " results-20200811-093436.gsheet\n",
            " results-20200814-091112.gsheet\n",
            " results-20200826-113024.gsheet\n",
            " results-20200907-092134.gsheet\n",
            " results-20200907-141218.gsheet\n",
            " results-20200907-172535.gsheet\n",
            " results-20200909-170605.gsheet\n",
            " results-20200924-140817.gsheet\n",
            " results-20200924-140842.gsheet\n",
            "'Rev Coverage.gsheet'\n",
            "'RV Daily report (1).gsheet'\n",
            "'RV Daily report (1).xlsx'\n",
            "'RV Daily report (2).gsheet'\n",
            "'RV Daily report (2).xlsx'\n",
            "'RV Daily report (3).gsheet'\n",
            "'RV Daily report (3).xlsx'\n",
            "'RV Daily report (4).gsheet'\n",
            "'RV Daily report (4).xlsx'\n",
            "'RV Daily report (5).gsheet'\n",
            "'RV Daily report (5).xlsx'\n",
            "'RV Daily report (6).gsheet'\n",
            "'RV Daily report (6).xlsx'\n",
            "'RV Daily report (7).gsheet'\n",
            "'RV Daily report (7).xlsx'\n",
            "'RV Daily report.gsheet'\n",
            "'RV Daily report.xlsx'\n",
            "'RV metric definitions  (1).gslides'\n",
            "'RV metric definitions  (2).gslides'\n",
            "'RV metric definitions .gslides'\n",
            "'RV metric definitions .pptx'\n",
            "'RVU App Journey Flows.gslides'\n",
            "'RVU Business Review - 1 April 2020.gdoc'\n",
            "'RVU Business Review - 1 April 2020.pdf'\n",
            "'RVU CC Funnel.gsheet'\n",
            "'RVU CC Funnel V2.gsheet'\n",
            " rvu_counts.sql\n",
            "'RVU master slidedeck (1).gslides'\n",
            "'RVU master slidedeck (2).gslides'\n",
            "'RVU master slidedeck (3).gslides'\n",
            "'RVU master slidedeck.gslides'\n",
            " rvu_monevo_clickdifference.gsheet\n",
            " rvu_monevo_clickdifference.xlsx\n",
            " rvu_monevo_clicktrackedby.gsheet\n",
            " rvu_monevo_clicktrackedby.xlsx\n",
            "'RVU PPC Tables.gsheet'\n",
            "'Search keyword report.gsheet'\n",
            "'Segment App Data Pull.gsheet'\n",
            "'Segment App Tracking Plan.gsheet'\n",
            "'SEO Ranking factors.gsheet'\n",
            "'Share Dealing Ecommerce Events and Exit Rates.gsheet'\n",
            "'share dealing stats 20 05.gsheet'\n",
            "'Tableau Dashboard Webinar 3.gdoc'\n",
            "'Tableau Report Migration.gsheet'\n",
            " test.csv\n",
            "'Testing Slides.gslides'\n",
            "'The Statsy Slides.gdoc'\n",
            "'top rev driving conversion pages by month.gsheet'\n",
            " train.csv\n",
            "'Unsecured Loans Migration - Test Page Groupings.gsheet'\n",
            "'Untitled document (1).gdoc'\n",
            "'Untitled document (2).gdoc'\n",
            "'Untitled document (3).gdoc'\n",
            "'Untitled document (4).gdoc'\n",
            "'Untitled document (5).gdoc'\n",
            "'Untitled document (6).gdoc'\n",
            "'Untitled document (7).gdoc'\n",
            "'Untitled document (8).gdoc'\n",
            "'Untitled document.gdoc'\n",
            "'Untitled presentation (1).gslides'\n",
            "'Untitled presentation (2).gslides'\n",
            "'Untitled presentation.gslides'\n",
            "'Untitled spreadsheet (10).gsheet'\n",
            "'Untitled spreadsheet (11).gsheet'\n",
            "'Untitled spreadsheet (12).gsheet'\n",
            "'Untitled spreadsheet (13).gsheet'\n",
            "'Untitled spreadsheet (14).gsheet'\n",
            "'Untitled spreadsheet (15).gsheet'\n",
            "'Untitled spreadsheet (16).gsheet'\n",
            "'Untitled spreadsheet (17).gsheet'\n",
            "'Untitled spreadsheet (18).gsheet'\n",
            "'Untitled spreadsheet (19).gsheet'\n",
            "'Untitled spreadsheet (1).gsheet'\n",
            "'Untitled spreadsheet (20).gsheet'\n",
            "'Untitled spreadsheet (21).gsheet'\n",
            "'Untitled spreadsheet (22).gsheet'\n",
            "'Untitled spreadsheet (23).gsheet'\n",
            "'Untitled spreadsheet (2).gsheet'\n",
            "'Untitled spreadsheet (3).gsheet'\n",
            "'Untitled spreadsheet (4).gsheet'\n",
            "'Untitled spreadsheet (5).gsheet'\n",
            "'Untitled spreadsheet (6).gsheet'\n",
            "'Untitled spreadsheet (7).gsheet'\n",
            "'Untitled spreadsheet (8).gsheet'\n",
            "'Untitled spreadsheet (9).gsheet'\n",
            "'Untitled spreadsheet.gsheet'\n",
            "'Usabilla Exit Intent Timing - Mobile.gsheet'\n",
            "'uSw Car & Home VAT testing.gsheet'\n",
            "'Uswitch Audience Data_New vs Returning Users by Subvertical and Age_Pivot table.gsheet'\n",
            "'uswitch user flow - energy + broadband + creditcards + mobiles 23.7.18 (1).gsheet'\n",
            "'uswitch user flow - energy + broadband + creditcards + mobiles 23.7.18 (1).xlsx'\n",
            "'uswitch user flow - energy + broadband + creditcards + mobiles 23.7.18 (2).gsheet'\n",
            "'uswitch user flow - energy + broadband + creditcards + mobiles 23.7.18.gsheet'\n",
            "'uswitch user flow - energy + broadband + creditcards + mobiles 23.7.18.xlsx'\n",
            " uswitchvpnaws.ovpn\n",
            "'Wedding - Nov17 (v 04092017).gsheet'\n",
            "'Wedding - Nov17 (v 04092017).xlsx'\n",
            " Week2_Python_Homework.ipynb\n",
            "'Weekly AMP & FS Analytics Planning 09 03 2020.gdoc'\n",
            "'What the heck is a dashboard anyway?.gdoc'\n",
            "'woolworths_export (1).gsheet'\n",
            "'woolworths_export (1).xlsx'\n",
            " woolworths_export.gsheet\n",
            " woolworths_export.xlsx\n",
            " YC97TIVaQkS1F3U7P6zIPw.gsheet\n",
            " ZPGBoard_6.2019_ext.pdf\n"
          ],
          "name": "stdout"
        }
      ]
    },
    {
      "cell_type": "markdown",
      "metadata": {
        "colab_type": "text",
        "id": "rcJQfhe7Nt31"
      },
      "source": [
        "----\n",
        "## 1. Import Libraries\n",
        "Import pandas, numpy, matplotlib and seaborn. Then set %matplotlib inline."
      ]
    },
    {
      "cell_type": "code",
      "metadata": {
        "colab_type": "code",
        "id": "699AhjeHOAMG",
        "colab": {}
      },
      "source": [
        "# TODO  \n",
        "\n",
        "import pandas as pd\n",
        "import numpy as np\n",
        "import matplotlib.pyplot as plt\n",
        "import seaborn as sns\n",
        "sns.set()\n",
        "\n",
        "%matplotlib inline"
      ],
      "execution_count": 40,
      "outputs": []
    },
    {
      "cell_type": "markdown",
      "metadata": {
        "colab_type": "text",
        "id": "4Q3Ae4OFOB3W"
      },
      "source": [
        "---\n",
        "## 2. Load Data\n",
        "Read in the housing.csv file as a DataFrame called `data`."
      ]
    },
    {
      "cell_type": "code",
      "metadata": {
        "colab_type": "code",
        "id": "d6qzORRmOMRP",
        "colab": {
          "base_uri": "https://localhost:8080/",
          "height": 34
        },
        "outputId": "0317aefa-e11e-41be-ba87-3d7e2d4075b8"
      },
      "source": [
        "# TODO: Replace YourFolderName with the folder name on your google drive\n",
        "\n",
        "data = pd.read_csv('/content/drive/My Drive/housing.csv')\n",
        "\n",
        "# Success\n",
        "print(\"Boston housing dataset has {} data points with {} columns.\".format(*data.shape))"
      ],
      "execution_count": 41,
      "outputs": [
        {
          "output_type": "stream",
          "text": [
            "Boston housing dataset has 489 data points with 4 columns.\n"
          ],
          "name": "stdout"
        }
      ]
    },
    {
      "cell_type": "markdown",
      "metadata": {
        "colab_type": "text",
        "id": "p80qXybvOZTm"
      },
      "source": [
        "---\n",
        "## 3. Explore Data"
      ]
    },
    {
      "cell_type": "markdown",
      "metadata": {
        "colab_type": "text",
        "id": "lldfNrZxPohF"
      },
      "source": [
        "Familiarizing ourself with the data through an explorative process is a fundamental practice to help us better understand and justify our results."
      ]
    },
    {
      "cell_type": "code",
      "metadata": {
        "colab_type": "code",
        "id": "I_I84oY1OZBl",
        "colab": {
          "base_uri": "https://localhost:8080/",
          "height": 669
        },
        "outputId": "124d633a-19fc-4a9e-b741-c10b8890cc17"
      },
      "source": [
        "# TODO: Get the first n rows of data\n",
        "data.head(20)"
      ],
      "execution_count": 42,
      "outputs": [
        {
          "output_type": "execute_result",
          "data": {
            "text/html": [
              "<div>\n",
              "<style scoped>\n",
              "    .dataframe tbody tr th:only-of-type {\n",
              "        vertical-align: middle;\n",
              "    }\n",
              "\n",
              "    .dataframe tbody tr th {\n",
              "        vertical-align: top;\n",
              "    }\n",
              "\n",
              "    .dataframe thead th {\n",
              "        text-align: right;\n",
              "    }\n",
              "</style>\n",
              "<table border=\"1\" class=\"dataframe\">\n",
              "  <thead>\n",
              "    <tr style=\"text-align: right;\">\n",
              "      <th></th>\n",
              "      <th>RM</th>\n",
              "      <th>LSTAT</th>\n",
              "      <th>PTRATIO</th>\n",
              "      <th>MEDV</th>\n",
              "    </tr>\n",
              "  </thead>\n",
              "  <tbody>\n",
              "    <tr>\n",
              "      <th>0</th>\n",
              "      <td>6.575</td>\n",
              "      <td>4.98</td>\n",
              "      <td>15.3</td>\n",
              "      <td>504000.0</td>\n",
              "    </tr>\n",
              "    <tr>\n",
              "      <th>1</th>\n",
              "      <td>6.421</td>\n",
              "      <td>9.14</td>\n",
              "      <td>17.8</td>\n",
              "      <td>453600.0</td>\n",
              "    </tr>\n",
              "    <tr>\n",
              "      <th>2</th>\n",
              "      <td>7.185</td>\n",
              "      <td>4.03</td>\n",
              "      <td>17.8</td>\n",
              "      <td>728700.0</td>\n",
              "    </tr>\n",
              "    <tr>\n",
              "      <th>3</th>\n",
              "      <td>6.998</td>\n",
              "      <td>2.94</td>\n",
              "      <td>18.7</td>\n",
              "      <td>701400.0</td>\n",
              "    </tr>\n",
              "    <tr>\n",
              "      <th>4</th>\n",
              "      <td>7.147</td>\n",
              "      <td>5.33</td>\n",
              "      <td>18.7</td>\n",
              "      <td>760200.0</td>\n",
              "    </tr>\n",
              "    <tr>\n",
              "      <th>5</th>\n",
              "      <td>6.430</td>\n",
              "      <td>5.21</td>\n",
              "      <td>18.7</td>\n",
              "      <td>602700.0</td>\n",
              "    </tr>\n",
              "    <tr>\n",
              "      <th>6</th>\n",
              "      <td>6.012</td>\n",
              "      <td>12.43</td>\n",
              "      <td>15.2</td>\n",
              "      <td>480900.0</td>\n",
              "    </tr>\n",
              "    <tr>\n",
              "      <th>7</th>\n",
              "      <td>6.172</td>\n",
              "      <td>19.15</td>\n",
              "      <td>15.2</td>\n",
              "      <td>569100.0</td>\n",
              "    </tr>\n",
              "    <tr>\n",
              "      <th>8</th>\n",
              "      <td>5.631</td>\n",
              "      <td>29.93</td>\n",
              "      <td>15.2</td>\n",
              "      <td>346500.0</td>\n",
              "    </tr>\n",
              "    <tr>\n",
              "      <th>9</th>\n",
              "      <td>6.004</td>\n",
              "      <td>17.10</td>\n",
              "      <td>15.2</td>\n",
              "      <td>396900.0</td>\n",
              "    </tr>\n",
              "    <tr>\n",
              "      <th>10</th>\n",
              "      <td>6.377</td>\n",
              "      <td>20.45</td>\n",
              "      <td>15.2</td>\n",
              "      <td>315000.0</td>\n",
              "    </tr>\n",
              "    <tr>\n",
              "      <th>11</th>\n",
              "      <td>6.009</td>\n",
              "      <td>13.27</td>\n",
              "      <td>15.2</td>\n",
              "      <td>396900.0</td>\n",
              "    </tr>\n",
              "    <tr>\n",
              "      <th>12</th>\n",
              "      <td>5.889</td>\n",
              "      <td>15.71</td>\n",
              "      <td>15.2</td>\n",
              "      <td>455700.0</td>\n",
              "    </tr>\n",
              "    <tr>\n",
              "      <th>13</th>\n",
              "      <td>5.949</td>\n",
              "      <td>8.26</td>\n",
              "      <td>21.0</td>\n",
              "      <td>428400.0</td>\n",
              "    </tr>\n",
              "    <tr>\n",
              "      <th>14</th>\n",
              "      <td>6.096</td>\n",
              "      <td>10.26</td>\n",
              "      <td>21.0</td>\n",
              "      <td>382200.0</td>\n",
              "    </tr>\n",
              "    <tr>\n",
              "      <th>15</th>\n",
              "      <td>5.834</td>\n",
              "      <td>8.47</td>\n",
              "      <td>21.0</td>\n",
              "      <td>417900.0</td>\n",
              "    </tr>\n",
              "    <tr>\n",
              "      <th>16</th>\n",
              "      <td>5.935</td>\n",
              "      <td>6.58</td>\n",
              "      <td>21.0</td>\n",
              "      <td>485100.0</td>\n",
              "    </tr>\n",
              "    <tr>\n",
              "      <th>17</th>\n",
              "      <td>5.990</td>\n",
              "      <td>14.67</td>\n",
              "      <td>21.0</td>\n",
              "      <td>367500.0</td>\n",
              "    </tr>\n",
              "    <tr>\n",
              "      <th>18</th>\n",
              "      <td>5.456</td>\n",
              "      <td>11.69</td>\n",
              "      <td>21.0</td>\n",
              "      <td>424200.0</td>\n",
              "    </tr>\n",
              "    <tr>\n",
              "      <th>19</th>\n",
              "      <td>5.727</td>\n",
              "      <td>11.28</td>\n",
              "      <td>21.0</td>\n",
              "      <td>382200.0</td>\n",
              "    </tr>\n",
              "  </tbody>\n",
              "</table>\n",
              "</div>"
            ],
            "text/plain": [
              "       RM  LSTAT  PTRATIO      MEDV\n",
              "0   6.575   4.98     15.3  504000.0\n",
              "1   6.421   9.14     17.8  453600.0\n",
              "2   7.185   4.03     17.8  728700.0\n",
              "3   6.998   2.94     18.7  701400.0\n",
              "4   7.147   5.33     18.7  760200.0\n",
              "5   6.430   5.21     18.7  602700.0\n",
              "6   6.012  12.43     15.2  480900.0\n",
              "7   6.172  19.15     15.2  569100.0\n",
              "8   5.631  29.93     15.2  346500.0\n",
              "9   6.004  17.10     15.2  396900.0\n",
              "10  6.377  20.45     15.2  315000.0\n",
              "11  6.009  13.27     15.2  396900.0\n",
              "12  5.889  15.71     15.2  455700.0\n",
              "13  5.949   8.26     21.0  428400.0\n",
              "14  6.096  10.26     21.0  382200.0\n",
              "15  5.834   8.47     21.0  417900.0\n",
              "16  5.935   6.58     21.0  485100.0\n",
              "17  5.990  14.67     21.0  367500.0\n",
              "18  5.456  11.69     21.0  424200.0\n",
              "19  5.727  11.28     21.0  382200.0"
            ]
          },
          "metadata": {
            "tags": []
          },
          "execution_count": 42
        }
      ]
    },
    {
      "cell_type": "code",
      "metadata": {
        "colab_type": "code",
        "id": "Y8lSGtSY10iK",
        "colab": {
          "base_uri": "https://localhost:8080/",
          "height": 204
        },
        "outputId": "a58624b2-0c32-4e9a-fe59-f97bf9b914fb"
      },
      "source": [
        "# TODO: Get a summary of the dataframe\n",
        "data.info()"
      ],
      "execution_count": 43,
      "outputs": [
        {
          "output_type": "stream",
          "text": [
            "<class 'pandas.core.frame.DataFrame'>\n",
            "RangeIndex: 489 entries, 0 to 488\n",
            "Data columns (total 4 columns):\n",
            " #   Column   Non-Null Count  Dtype  \n",
            "---  ------   --------------  -----  \n",
            " 0   RM       489 non-null    float64\n",
            " 1   LSTAT    489 non-null    float64\n",
            " 2   PTRATIO  489 non-null    float64\n",
            " 3   MEDV     489 non-null    float64\n",
            "dtypes: float64(4)\n",
            "memory usage: 15.4 KB\n"
          ],
          "name": "stdout"
        }
      ]
    },
    {
      "cell_type": "code",
      "metadata": {
        "colab_type": "code",
        "id": "NEulpfNc12JT",
        "colab": {
          "base_uri": "https://localhost:8080/",
          "height": 297
        },
        "outputId": "ae0af138-f0fb-4758-c156-d2087d6a4f36"
      },
      "source": [
        "# TODO: Calculate descriptive statistics \n",
        "data.describe()"
      ],
      "execution_count": 44,
      "outputs": [
        {
          "output_type": "execute_result",
          "data": {
            "text/html": [
              "<div>\n",
              "<style scoped>\n",
              "    .dataframe tbody tr th:only-of-type {\n",
              "        vertical-align: middle;\n",
              "    }\n",
              "\n",
              "    .dataframe tbody tr th {\n",
              "        vertical-align: top;\n",
              "    }\n",
              "\n",
              "    .dataframe thead th {\n",
              "        text-align: right;\n",
              "    }\n",
              "</style>\n",
              "<table border=\"1\" class=\"dataframe\">\n",
              "  <thead>\n",
              "    <tr style=\"text-align: right;\">\n",
              "      <th></th>\n",
              "      <th>RM</th>\n",
              "      <th>LSTAT</th>\n",
              "      <th>PTRATIO</th>\n",
              "      <th>MEDV</th>\n",
              "    </tr>\n",
              "  </thead>\n",
              "  <tbody>\n",
              "    <tr>\n",
              "      <th>count</th>\n",
              "      <td>489.000000</td>\n",
              "      <td>489.000000</td>\n",
              "      <td>489.000000</td>\n",
              "      <td>4.890000e+02</td>\n",
              "    </tr>\n",
              "    <tr>\n",
              "      <th>mean</th>\n",
              "      <td>6.240288</td>\n",
              "      <td>12.939632</td>\n",
              "      <td>18.516564</td>\n",
              "      <td>4.543429e+05</td>\n",
              "    </tr>\n",
              "    <tr>\n",
              "      <th>std</th>\n",
              "      <td>0.643650</td>\n",
              "      <td>7.081990</td>\n",
              "      <td>2.111268</td>\n",
              "      <td>1.653403e+05</td>\n",
              "    </tr>\n",
              "    <tr>\n",
              "      <th>min</th>\n",
              "      <td>3.561000</td>\n",
              "      <td>1.980000</td>\n",
              "      <td>12.600000</td>\n",
              "      <td>1.050000e+05</td>\n",
              "    </tr>\n",
              "    <tr>\n",
              "      <th>25%</th>\n",
              "      <td>5.880000</td>\n",
              "      <td>7.370000</td>\n",
              "      <td>17.400000</td>\n",
              "      <td>3.507000e+05</td>\n",
              "    </tr>\n",
              "    <tr>\n",
              "      <th>50%</th>\n",
              "      <td>6.185000</td>\n",
              "      <td>11.690000</td>\n",
              "      <td>19.100000</td>\n",
              "      <td>4.389000e+05</td>\n",
              "    </tr>\n",
              "    <tr>\n",
              "      <th>75%</th>\n",
              "      <td>6.575000</td>\n",
              "      <td>17.120000</td>\n",
              "      <td>20.200000</td>\n",
              "      <td>5.187000e+05</td>\n",
              "    </tr>\n",
              "    <tr>\n",
              "      <th>max</th>\n",
              "      <td>8.398000</td>\n",
              "      <td>37.970000</td>\n",
              "      <td>22.000000</td>\n",
              "      <td>1.024800e+06</td>\n",
              "    </tr>\n",
              "  </tbody>\n",
              "</table>\n",
              "</div>"
            ],
            "text/plain": [
              "               RM       LSTAT     PTRATIO          MEDV\n",
              "count  489.000000  489.000000  489.000000  4.890000e+02\n",
              "mean     6.240288   12.939632   18.516564  4.543429e+05\n",
              "std      0.643650    7.081990    2.111268  1.653403e+05\n",
              "min      3.561000    1.980000   12.600000  1.050000e+05\n",
              "25%      5.880000    7.370000   17.400000  3.507000e+05\n",
              "50%      6.185000   11.690000   19.100000  4.389000e+05\n",
              "75%      6.575000   17.120000   20.200000  5.187000e+05\n",
              "max      8.398000   37.970000   22.000000  1.024800e+06"
            ]
          },
          "metadata": {
            "tags": []
          },
          "execution_count": 44
        }
      ]
    },
    {
      "cell_type": "markdown",
      "metadata": {
        "colab_type": "text",
        "id": "FnhKfVdbDHXm"
      },
      "source": [
        "Since the main goal of this project is to construct a working model which has the capability of predicting the value of houses, we will need to separate the dataset into **features** and the **target variable**.  \n",
        "  \n",
        "\n",
        "The **features**, `'RM'`, `'LSTAT'`, and `'PTRATIO'`, give us quantitative information about each data point.   \n",
        "- `'RM'` is the average number of rooms among homes in the neighborhood.\n",
        "- `'LSTAT'` is the percentage of homeowners in the neighborhood considered \"lower class\" (working poor).\n",
        "- `'PTRATIO'` is the ratio of students to teachers in primary and secondary schools in the neighborhood.   \n",
        "  \n",
        "The **target variable**, `'MEDV'`, will be the variable we seek to predict.  "
      ]
    },
    {
      "cell_type": "code",
      "metadata": {
        "colab_type": "code",
        "id": "QblQKHpGZE3_",
        "colab": {}
      },
      "source": [
        "# TODO: Declare `features` and `target` variables\n",
        "features = data[['RM','LSTAT','PTRATIO']]\n",
        "target = data[['MEDV']]"
      ],
      "execution_count": 45,
      "outputs": []
    },
    {
      "cell_type": "markdown",
      "metadata": {
        "colab_type": "text",
        "id": "ycjtGbanDHXn"
      },
      "source": [
        "Calculate Statistics\n",
        "- Calculate the minimum, maximum, mean, median, and standard deviation of `'MEDV'`.\n",
        "- Store each calculation in their respective variable.\n",
        "- Use `numpy` to perform the necessary calcualtions."
      ]
    },
    {
      "cell_type": "code",
      "metadata": {
        "colab_type": "code",
        "id": "ObG8IO4uDHXn",
        "colab": {
          "base_uri": "https://localhost:8080/",
          "height": 221
        },
        "outputId": "a9fbafb4-f721-42b5-b0ce-fb9fc40604aa"
      },
      "source": [
        "# TODO: Minimum price of the data\n",
        "minimum_price = target.min()\n",
        "\n",
        "# TODO: Maximum price of the data\n",
        "maximum_price = target.max()\n",
        "\n",
        "# TODO: Mean price of the data\n",
        "mean_price = target.mean()\n",
        "\n",
        "# TODO: Median price of the data\n",
        "median_price = target.median()\n",
        "\n",
        "# TODO: Standard deviation of prices of the data\n",
        "std_price = target.std()\n",
        "\n",
        "# Show the calculated statistics\n",
        "print(\"Statistics for Boston housing dataset:\\n\")\n",
        "print(\"Minimum price: ${}\".format(minimum_price)) \n",
        "print(\"Maximum price: ${}\".format(maximum_price))\n",
        "print(\"Mean price: ${}\".format(mean_price))\n",
        "print(\"Median price ${}\".format(median_price))\n",
        "print(\"Standard deviation of prices: ${}\".format(std_price))"
      ],
      "execution_count": 46,
      "outputs": [
        {
          "output_type": "stream",
          "text": [
            "Statistics for Boston housing dataset:\n",
            "\n",
            "Minimum price: $MEDV    105000.0\n",
            "dtype: float64\n",
            "Maximum price: $MEDV    1024800.0\n",
            "dtype: float64\n",
            "Mean price: $MEDV    454342.944785\n",
            "dtype: float64\n",
            "Median price $MEDV    438900.0\n",
            "dtype: float64\n",
            "Standard deviation of prices: $MEDV    165340.277653\n",
            "dtype: float64\n"
          ],
          "name": "stdout"
        }
      ]
    },
    {
      "cell_type": "markdown",
      "metadata": {
        "colab_type": "text",
        "id": "xbabB6a2DHXp"
      },
      "source": [
        "Observe features\n",
        "\n",
        "For each of the three features **RM**, **LSTAT**, **PTRATIO**:\n",
        "  * Do you think that an increase in the value of that feature would lead to an **increase** in the value of `'MEDV'` or a **decrease** in the value of `'MEDV'`? \n",
        "  * Show the data using appropriate plot and justify your answer for each."
      ]
    },
    {
      "cell_type": "code",
      "metadata": {
        "colab_type": "code",
        "id": "sQ8PrHK_DHXq",
        "colab": {
          "base_uri": "https://localhost:8080/",
          "height": 352
        },
        "outputId": "81cb7b8f-60b5-4d4f-bd17-1aa2e0742634"
      },
      "source": [
        "# TODO  \n",
        "#'RM' is the average number of rooms among homes in the neighborhood.\n",
        "print(\"The higher the average number of rooms among houses in the neighbourhood, the higher the value of the house.\\n\")\n",
        "\n",
        "plt.scatter(features['RM'],target)\n",
        "plt.title('MEDV vs RM Scatter Plot')\n",
        "plt.ylabel('MEDV - House value in millions')\n",
        "plt.xlabel('RM - Avg number of rooms')\n"
      ],
      "execution_count": 47,
      "outputs": [
        {
          "output_type": "stream",
          "text": [
            "The higher the average number of rooms among houses in the neighbourhood, the higher the value of the house.\n",
            "\n"
          ],
          "name": "stdout"
        },
        {
          "output_type": "execute_result",
          "data": {
            "text/plain": [
              "Text(0.5, 0, 'RM - Avg number of rooms')"
            ]
          },
          "metadata": {
            "tags": []
          },
          "execution_count": 47
        },
        {
          "output_type": "display_data",
          "data": {
            "image/png": "[encoded data removed]",
            "text/plain": [
              "<Figure size 432x288 with 1 Axes>"
            ]
          },
          "metadata": {
            "tags": [],
            "needs_background": "light"
          }
        }
      ]
    },
    {
      "cell_type": "code",
      "metadata": {
        "id": "qziP-b6e5VbL",
        "colab_type": "code",
        "colab": {
          "base_uri": "https://localhost:8080/",
          "height": 352
        },
        "outputId": "41bd7fa6-e03e-49e4-82bd-e37b08bd92ea"
      },
      "source": [
        "#'LSTAT' is the percentage of homeowners in the neighborhood considered \"lower class\" (working poor).\n",
        "print(\"The larger the percentage of homeowners in the neighbourhood considered lower class, the lower the value of the house.\\n\")\n",
        "\n",
        "plt.scatter(features['LSTAT'],target)\n",
        "plt.title('MEDV vs LSTAT Scatter Plot')\n",
        "plt.ylabel('MEDV - House value in millions')\n",
        "plt.xlabel('LSTAT - % of lower class homeowners')"
      ],
      "execution_count": 48,
      "outputs": [
        {
          "output_type": "stream",
          "text": [
            "The larger the percentage of homeowners in the neighbourhood considered lower class, the lower the value of the house.\n",
            "\n"
          ],
          "name": "stdout"
        },
        {
          "output_type": "execute_result",
          "data": {
            "text/plain": [
              "Text(0.5, 0, 'LSTAT - % of lower class homeowners')"
            ]
          },
          "metadata": {
            "tags": []
          },
          "execution_count": 48
        },
        {
          "output_type": "display_data",
          "data": {
            "image/png": "[encoded data removed]",
            "text/plain": [
              "<Figure size 432x288 with 1 Axes>"
            ]
          },
          "metadata": {
            "tags": [],
            "needs_background": "light"
          }
        }
      ]
    },
    {
      "cell_type": "code",
      "metadata": {
        "id": "ZbdnUqn75Wdj",
        "colab_type": "code",
        "colab": {
          "base_uri": "https://localhost:8080/",
          "height": 420
        },
        "outputId": "68999cb1-c2de-45d6-eeac-19078402cd1f"
      },
      "source": [
        "#'PTRATIO' is the ratio of students to teachers in primary and secondary schools in the neighborhood.\n",
        "print(\"The larger the ration of students to teachers in the neighbourhood, the lower the value of the house.\\n\")\n",
        "print(\"There is a very loose relationship between LSTAT and MEDV. \\n This suggests that the number of students to teachers in schools is not an important factor in determining house value. \\n Perhaps more information is needed on the school itself.\\n\")\n",
        "\n",
        "plt.scatter(features['PTRATIO'],target)\n",
        "plt.title('MEDV vs PTRATIO Scatter Plot')\n",
        "plt.ylabel('MEDV - House value in millions')\n",
        "plt.xlabel('PTRATIO - Ratio of students to teachers in neighborhood schools')"
      ],
      "execution_count": 49,
      "outputs": [
        {
          "output_type": "stream",
          "text": [
            "The larger the ration of students to teachers in the neighbourhood, the lower the value of the house.\n",
            "\n",
            "There is a very loose relationship between LSTAT and MEDV. \n",
            " This suggests that the number of students to teachers in schools is not an important factor in determining house value. \n",
            " Perhaps more information is needed on the school itself.\n",
            "\n"
          ],
          "name": "stdout"
        },
        {
          "output_type": "execute_result",
          "data": {
            "text/plain": [
              "Text(0.5, 0, 'PTRATIO - Ratio of students to teachers in neighborhood schools')"
            ]
          },
          "metadata": {
            "tags": []
          },
          "execution_count": 49
        },
        {
          "output_type": "display_data",
          "data": {
            "image/png": "[encoded data removed]",
            "text/plain": [
              "<Figure size 432x288 with 1 Axes>"
            ]
          },
          "metadata": {
            "tags": [],
            "needs_background": "light"
          }
        }
      ]
    },
    {
      "cell_type": "markdown",
      "metadata": {
        "colab_type": "text",
        "id": "h0f5A4FaDHXs"
      },
      "source": [
        "**Answer**:    TODO  \n"
      ]
    },
    {
      "cell_type": "markdown",
      "metadata": {
        "colab_type": "text",
        "id": "Bj79xbTWDHXt"
      },
      "source": [
        "----\n",
        "\n",
        "## 4. Develop Model"
      ]
    },
    {
      "cell_type": "markdown",
      "metadata": {
        "colab_type": "text",
        "id": "4YkO_pRUDHXt"
      },
      "source": [
        "Split data to get training and testing Data."
      ]
    },
    {
      "cell_type": "code",
      "metadata": {
        "colab_type": "code",
        "id": "7UZ4Sv9yDHXu",
        "colab": {}
      },
      "source": [
        "# TODO\n",
        "# Split train and test (test_size=0.2, random_state=42)\n",
        "from sklearn.model_selection import train_test_split\n",
        "\n",
        "features_train, features_test, target_train, target_test = train_test_split(features, target, test_size=0.2, random_state=42)\n"
      ],
      "execution_count": 50,
      "outputs": []
    },
    {
      "cell_type": "code",
      "metadata": {
        "id": "3pnNHc4RIEKu",
        "colab_type": "code",
        "colab": {
          "base_uri": "https://localhost:8080/",
          "height": 204
        },
        "outputId": "1255824e-8cff-4210-dd68-51fa07a4e4de"
      },
      "source": [
        "#Feature scaling\n",
        "from sklearn.preprocessing import StandardScaler\n",
        "\n",
        "#Standardisation\n",
        "scaler = StandardScaler()\n",
        "scaler.fit(features_train)\n",
        "features_scaled = pd.DataFrame(data = scaler.transform(features_train), columns = features_train.columns.values)\n",
        "features_scaled.head()\n"
      ],
      "execution_count": 51,
      "outputs": [
        {
          "output_type": "execute_result",
          "data": {
            "text/html": [
              "<div>\n",
              "<style scoped>\n",
              "    .dataframe tbody tr th:only-of-type {\n",
              "        vertical-align: middle;\n",
              "    }\n",
              "\n",
              "    .dataframe tbody tr th {\n",
              "        vertical-align: top;\n",
              "    }\n",
              "\n",
              "    .dataframe thead th {\n",
              "        text-align: right;\n",
              "    }\n",
              "</style>\n",
              "<table border=\"1\" class=\"dataframe\">\n",
              "  <thead>\n",
              "    <tr style=\"text-align: right;\">\n",
              "      <th></th>\n",
              "      <th>RM</th>\n",
              "      <th>LSTAT</th>\n",
              "      <th>PTRATIO</th>\n",
              "    </tr>\n",
              "  </thead>\n",
              "  <tbody>\n",
              "    <tr>\n",
              "      <th>0</th>\n",
              "      <td>-0.577296</td>\n",
              "      <td>-0.426571</td>\n",
              "      <td>0.806995</td>\n",
              "    </tr>\n",
              "    <tr>\n",
              "      <th>1</th>\n",
              "      <td>-0.124273</td>\n",
              "      <td>1.590671</td>\n",
              "      <td>1.265889</td>\n",
              "    </tr>\n",
              "    <tr>\n",
              "      <th>2</th>\n",
              "      <td>0.729786</td>\n",
              "      <td>0.646670</td>\n",
              "      <td>0.806995</td>\n",
              "    </tr>\n",
              "    <tr>\n",
              "      <th>3</th>\n",
              "      <td>0.264881</td>\n",
              "      <td>0.475288</td>\n",
              "      <td>0.806995</td>\n",
              "    </tr>\n",
              "    <tr>\n",
              "      <th>4</th>\n",
              "      <td>0.796625</td>\n",
              "      <td>-0.892952</td>\n",
              "      <td>1.174110</td>\n",
              "    </tr>\n",
              "  </tbody>\n",
              "</table>\n",
              "</div>"
            ],
            "text/plain": [
              "         RM     LSTAT   PTRATIO\n",
              "0 -0.577296 -0.426571  0.806995\n",
              "1 -0.124273  1.590671  1.265889\n",
              "2  0.729786  0.646670  0.806995\n",
              "3  0.264881  0.475288  0.806995\n",
              "4  0.796625 -0.892952  1.174110"
            ]
          },
          "metadata": {
            "tags": []
          },
          "execution_count": 51
        }
      ]
    },
    {
      "cell_type": "markdown",
      "metadata": {
        "id": "PYAOmM7LqfbC",
        "colab_type": "text"
      },
      "source": [
        "Why should we perform feature scailing?"
      ]
    },
    {
      "cell_type": "markdown",
      "metadata": {
        "id": "D-o8IzIRqfbD",
        "colab_type": "text"
      },
      "source": [
        "**Answer**:    This is to normalise values so that we dont have instances of features with high magnitudes weighing a lot more than features with low magnitudes\n"
      ]
    },
    {
      "cell_type": "markdown",
      "metadata": {
        "colab_type": "text",
        "id": "8wRkFJgqgzQ0"
      },
      "source": [
        "Create linear regression object"
      ]
    },
    {
      "cell_type": "code",
      "metadata": {
        "colab_type": "code",
        "id": "SgF86DJVg8xA",
        "colab": {}
      },
      "source": [
        "# TODO \n",
        "from sklearn.linear_model import LinearRegression\n",
        "\n",
        "lm = LinearRegression()"
      ],
      "execution_count": 52,
      "outputs": []
    },
    {
      "cell_type": "code",
      "metadata": {
        "id": "dbm3Dlw5EE97",
        "colab_type": "code",
        "colab": {}
      },
      "source": [
        "#from sklearn.feature_selection import f_regression\n",
        "\n",
        "\n",
        "#f regression and p values\n",
        "#f_regression(features,target)\n",
        "#p_values.round(3)"
      ],
      "execution_count": 53,
      "outputs": []
    },
    {
      "cell_type": "markdown",
      "metadata": {
        "colab_type": "text",
        "id": "l5E8OPLuhIcx"
      },
      "source": [
        "Train/fit **lm** on the training data."
      ]
    },
    {
      "cell_type": "code",
      "metadata": {
        "colab_type": "code",
        "id": "Jx6Jto72hRSG",
        "colab": {
          "base_uri": "https://localhost:8080/",
          "height": 34
        },
        "outputId": "e4e47d94-dc66-4a49-d7c0-8c199bf853c9"
      },
      "source": [
        "# TODO  \n",
        "lm.fit(features_train,target_train)"
      ],
      "execution_count": 54,
      "outputs": [
        {
          "output_type": "execute_result",
          "data": {
            "text/plain": [
              "LinearRegression(copy_X=True, fit_intercept=True, n_jobs=None, normalize=False)"
            ]
          },
          "metadata": {
            "tags": []
          },
          "execution_count": 54
        }
      ]
    },
    {
      "cell_type": "markdown",
      "metadata": {
        "colab_type": "text",
        "id": "ZIqo50ALiPsh"
      },
      "source": [
        "Display a dataframe with the features and their corresponding coefficients in descending order. Think about how would you interprete the results here."
      ]
    },
    {
      "cell_type": "code",
      "metadata": {
        "colab_type": "code",
        "id": "cyexS-h0iQNE",
        "colab": {
          "base_uri": "https://localhost:8080/",
          "height": 142
        },
        "outputId": "f304ad00-91e0-4e84-e260-a92f52ec8836"
      },
      "source": [
        "# TODO\n",
        "#lm.coef_ -- calculate coefficients of Regression Model\n",
        "#lm.intercept -- calculate intercept of Regression Model\n",
        "#lm.p_values.round(3) --calculate p-values of Regression model\n",
        "\n",
        "#Summary Table\n",
        "lm_summary = pd.DataFrame(data = features_scaled.columns.values,columns = ['Features'])\n",
        "lm_summary['Coefficients'] = lm.coef_[0]\n",
        "lm_summary"
      ],
      "execution_count": 55,
      "outputs": [
        {
          "output_type": "execute_result",
          "data": {
            "text/html": [
              "<div>\n",
              "<style scoped>\n",
              "    .dataframe tbody tr th:only-of-type {\n",
              "        vertical-align: middle;\n",
              "    }\n",
              "\n",
              "    .dataframe tbody tr th {\n",
              "        vertical-align: top;\n",
              "    }\n",
              "\n",
              "    .dataframe thead th {\n",
              "        text-align: right;\n",
              "    }\n",
              "</style>\n",
              "<table border=\"1\" class=\"dataframe\">\n",
              "  <thead>\n",
              "    <tr style=\"text-align: right;\">\n",
              "      <th></th>\n",
              "      <th>Features</th>\n",
              "      <th>Coefficients</th>\n",
              "    </tr>\n",
              "  </thead>\n",
              "  <tbody>\n",
              "    <tr>\n",
              "      <th>0</th>\n",
              "      <td>RM</td>\n",
              "      <td>87322.203619</td>\n",
              "    </tr>\n",
              "    <tr>\n",
              "      <th>1</th>\n",
              "      <td>LSTAT</td>\n",
              "      <td>-10620.637315</td>\n",
              "    </tr>\n",
              "    <tr>\n",
              "      <th>2</th>\n",
              "      <td>PTRATIO</td>\n",
              "      <td>-19324.410296</td>\n",
              "    </tr>\n",
              "  </tbody>\n",
              "</table>\n",
              "</div>"
            ],
            "text/plain": [
              "  Features  Coefficients\n",
              "0       RM  87322.203619\n",
              "1    LSTAT -10620.637315\n",
              "2  PTRATIO -19324.410296"
            ]
          },
          "metadata": {
            "tags": []
          },
          "execution_count": 55
        }
      ]
    },
    {
      "cell_type": "markdown",
      "metadata": {
        "colab_type": "text",
        "id": "r7OAaVDIi1mK"
      },
      "source": [
        "## 5. Make Prediction\n",
        "\n",
        "Now we have a trained model, let's make some predictions and evaluate the model's performance."
      ]
    },
    {
      "cell_type": "markdown",
      "metadata": {
        "colab_type": "text",
        "id": "p8yMx7v_kNwH"
      },
      "source": [
        "Use **lm.predict( )** to predict house prices for **X_test** data set."
      ]
    },
    {
      "cell_type": "code",
      "metadata": {
        "colab_type": "code",
        "id": "941FZ-NIklME",
        "colab": {
          "base_uri": "https://localhost:8080/",
          "height": 1000
        },
        "outputId": "2b999999-8e25-4792-e44e-029084b91d22"
      },
      "source": [
        "# TODO\n",
        "#reg.predict() -- predict target based on input. This can be a singular value or an entire dataframe\n",
        "#go through same pre-processing as features_training\n",
        "features_test = pd.DataFrame(data = scaler.transform(features_test), columns = features_test.columns.values)\n",
        "target_hat = lm.predict(features_test)\n",
        "target_hat"
      ],
      "execution_count": 56,
      "outputs": [
        {
          "output_type": "execute_result",
          "data": {
            "text/plain": [
              "array([[341517.72165271],\n",
              "       [429341.29256907],\n",
              "       [436666.81882649],\n",
              "       [267284.40683773],\n",
              "       [401920.6613412 ],\n",
              "       [328097.08077657],\n",
              "       [300128.03509411],\n",
              "       [615822.74302252],\n",
              "       [308602.77436526],\n",
              "       [477692.2855591 ],\n",
              "       [397510.35927171],\n",
              "       [345996.95683248],\n",
              "       [295650.24456625],\n",
              "       [279274.23964142],\n",
              "       [449458.5703129 ],\n",
              "       [431092.09407823],\n",
              "       [386192.06976548],\n",
              "       [375110.38311626],\n",
              "       [417401.63471447],\n",
              "       [378771.37376735],\n",
              "       [403146.50217108],\n",
              "       [399672.67263088],\n",
              "       [401700.58183712],\n",
              "       [553381.47606148],\n",
              "       [409794.48905441],\n",
              "       [394302.30909744],\n",
              "       [421111.01568181],\n",
              "       [507540.04550468],\n",
              "       [543867.14527758],\n",
              "       [261579.27161481],\n",
              "       [461810.71503338],\n",
              "       [297054.31510517],\n",
              "       [431807.57301628],\n",
              "       [410676.03636049],\n",
              "       [304912.40342957],\n",
              "       [407560.05549932],\n",
              "       [488765.49885604],\n",
              "       [403873.03257145],\n",
              "       [572072.20622242],\n",
              "       [526197.34077403],\n",
              "       [409062.8612558 ],\n",
              "       [331563.62023286],\n",
              "       [296142.70878503],\n",
              "       [365636.82340576],\n",
              "       [317504.48086319],\n",
              "       [436864.25286331],\n",
              "       [283071.94471669],\n",
              "       [366738.82452178],\n",
              "       [369154.81461769],\n",
              "       [339277.53780924],\n",
              "       [323734.78738778],\n",
              "       [465740.68088467],\n",
              "       [441560.4848217 ],\n",
              "       [338707.45745653],\n",
              "       [424243.34272402],\n",
              "       [387227.54214024],\n",
              "       [375259.57805939],\n",
              "       [414002.34496148],\n",
              "       [360154.01324065],\n",
              "       [279108.86712707],\n",
              "       [433556.16937885],\n",
              "       [412946.59820942],\n",
              "       [467257.53406086],\n",
              "       [377315.12121767],\n",
              "       [495600.61853102],\n",
              "       [634032.27020839],\n",
              "       [440388.90160411],\n",
              "       [450599.8005234 ],\n",
              "       [130904.61124737],\n",
              "       [317972.74174397],\n",
              "       [358417.21779309],\n",
              "       [375221.57377789],\n",
              "       [358447.10830736],\n",
              "       [402846.67856493],\n",
              "       [349887.00258542],\n",
              "       [361547.31869916],\n",
              "       [375620.41271479],\n",
              "       [375168.55722833],\n",
              "       [417950.00241672],\n",
              "       [393288.17888959],\n",
              "       [422003.40677568],\n",
              "       [476873.13302546],\n",
              "       [309224.37443552],\n",
              "       [276374.84998594],\n",
              "       [386804.14428913],\n",
              "       [461919.87772031],\n",
              "       [375999.05445287],\n",
              "       [415223.00560038],\n",
              "       [395851.06363839],\n",
              "       [336903.14942671],\n",
              "       [377179.68283558],\n",
              "       [413711.85118691],\n",
              "       [318832.7221944 ],\n",
              "       [375433.23382525],\n",
              "       [380564.16459765],\n",
              "       [444948.50250899],\n",
              "       [406440.77130013],\n",
              "       [391113.94283448]])"
            ]
          },
          "metadata": {
            "tags": []
          },
          "execution_count": 56
        }
      ]
    },
    {
      "cell_type": "markdown",
      "metadata": {
        "colab_type": "text",
        "id": "qxU2Xl7Wkm9E"
      },
      "source": [
        "Create a scatterplot of **y_test** versus the predicted values."
      ]
    },
    {
      "cell_type": "code",
      "metadata": {
        "colab_type": "code",
        "id": "Wpk6yAbskxK1",
        "colab": {
          "base_uri": "https://localhost:8080/",
          "height": 283
        },
        "outputId": "01f765c4-cb7c-4af0-8c4c-59aeaf4dc080"
      },
      "source": [
        "# TODO\n",
        "plt.scatter(target_test,target_hat)\n",
        "plt.xlabel('Targets (target_train)',size= 10)\n",
        "plt.ylabel('Predictions (target_hat)',size=10)\n",
        "plt.show()"
      ],
      "execution_count": 57,
      "outputs": [
        {
          "output_type": "display_data",
          "data": {
            "image/png": "[encoded data removed]",
            "text/plain": [
              "<Figure size 432x288 with 1 Axes>"
            ]
          },
          "metadata": {
            "tags": [],
            "needs_background": "light"
          }
        }
      ]
    },
    {
      "cell_type": "code",
      "metadata": {
        "id": "nUUOkVc1MXGW",
        "colab_type": "code",
        "colab": {
          "base_uri": "https://localhost:8080/",
          "height": 299
        },
        "outputId": "ac1d2f74-b9ab-486d-cac6-cb39c0b205f3"
      },
      "source": [
        "sns.distplot(target_train - lm.predict(features_train))\n",
        "plt.title('Residuals Plot', size=10)"
      ],
      "execution_count": 58,
      "outputs": [
        {
          "output_type": "execute_result",
          "data": {
            "text/plain": [
              "Text(0.5, 1.0, 'Residuals Plot')"
            ]
          },
          "metadata": {
            "tags": []
          },
          "execution_count": 58
        },
        {
          "output_type": "display_data",
          "data": {
            "image/png": "[encoded data removed]",
            "text/plain": [
              "<Figure size 432x288 with 1 Axes>"
            ]
          },
          "metadata": {
            "tags": [],
            "needs_background": "light"
          }
        }
      ]
    },
    {
      "cell_type": "markdown",
      "metadata": {
        "colab_type": "text",
        "id": "7HCCt_TilKe0"
      },
      "source": [
        "## 6. Evaluate Model"
      ]
    },
    {
      "cell_type": "markdown",
      "metadata": {
        "colab_type": "text",
        "id": "XZgX2R2XlpTp"
      },
      "source": [
        "It is difficult to measure the quality of a given model without quantifying its performance over training and testing. This is typically done using some type of performance metric, whether it is through calculating some type of error, the goodness of fit, or some other useful measurement. \n",
        "\n",
        "Let's evaluate the model performance by calculating the Adjusted $R^2$.  "
      ]
    },
    {
      "cell_type": "markdown",
      "metadata": {
        "id": "nUzg5pL2qfbS",
        "colab_type": "text"
      },
      "source": [
        "What's the benefit of using Adjusted $R^2$ versus $R^2$?"
      ]
    },
    {
      "cell_type": "markdown",
      "metadata": {
        "id": "37_S17bDqfbS",
        "colab_type": "text"
      },
      "source": [
        "**Answer**:    TODO \n"
      ]
    },
    {
      "cell_type": "markdown",
      "metadata": {
        "id": "YYNpgqkxqfbS",
        "colab_type": "text"
      },
      "source": [
        "Now calculate Adjusted $R^2$ for train set and test set. Hint: $R^2_{adj.}=1-(1-R^2)*\\frac{n-1}{n-p-1}$"
      ]
    },
    {
      "cell_type": "code",
      "metadata": {
        "colab_type": "code",
        "id": "omh7zxKinCTj",
        "colab": {
          "base_uri": "https://localhost:8080/",
          "height": 51
        },
        "outputId": "fd915246-b87a-4031-c101-a9b035be69d5"
      },
      "source": [
        "# TODO  \n",
        "#reg.score(features,target) -- R squared (unadjusted)\n",
        "#n = features.shape()[0]\n",
        "#p = features.shape()[1]\n",
        "#adjusted_r2 = 1 - (1-r2**2)*(n-1)/(n-p-1)\n",
        "\n",
        "r2_train = lm.score(features_train,target_train)\n",
        "r2_test = lm.score(features_test,target_test)\n",
        "\n",
        "n_features_train = features_train.shape[0]\n",
        "n_features_test = features_test.shape[0]\n",
        "\n",
        "p_features_train = features_train.shape[1]\n",
        "p_features_test = features_test.shape[1]\n",
        "\n",
        "def adjusted_r2(r2,n,p):\n",
        "  return 1 - (1-r2**2)*(n-1)/(n-p-1)\n",
        "\n",
        "adjusted_r2_train = adjusted_r2(r2_train,n_features_train,p_features_train)\n",
        "adjusted_r2_test = adjusted_r2(r2_test,n_features_test,p_features_test)\n",
        "\n",
        "print(\"R squared for training set is: \" , adjusted_r2_train.round(3))\n",
        "print(\"R squared for test set is: \" , adjusted_r2_test.round(3))"
      ],
      "execution_count": 37,
      "outputs": [
        {
          "output_type": "stream",
          "text": [
            "R squared for training set is:  0.514\n",
            "R squared for test set is:  0.18\n"
          ],
          "name": "stdout"
        }
      ]
    },
    {
      "cell_type": "markdown",
      "metadata": {
        "colab_type": "text",
        "id": "k9fMD5Le0tK9"
      },
      "source": [
        "## THE END, WELL DONE!"
      ]
    },
    {
      "cell_type": "markdown",
      "metadata": {
        "colab_type": "text",
        "id": "0ZvPvAgUlh6Q"
      },
      "source": [
        "## Submission"
      ]
    },
    {
      "cell_type": "markdown",
      "metadata": {
        "colab_type": "text",
        "id": "ckQTJn2uth60"
      },
      "source": [
        "Download completed **Week7_LinearRegression_Homework.ipynb** from Google Colab and commit to your personal Github repo you shared with the faculty."
      ]
    }
  ]
}